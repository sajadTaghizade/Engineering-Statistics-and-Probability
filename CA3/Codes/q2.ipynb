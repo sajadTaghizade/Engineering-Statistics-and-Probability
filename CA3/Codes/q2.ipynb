{
 "cells": [
  {
   "cell_type": "markdown",
   "metadata": {},
   "source": [
    "# Mean Square Error\n",
    "### CA3 @ EPS Course\n",
    "\n",
    "#### Instructors: Dr. Tavassolipour, Dr. Vahabie\n",
    "\n",
    "---\n",
    "\n",
    "### Instructions:\n",
    "-  Replace the placeholders (between <font color=\"green\">`## TODO ##`</font> and <font color=\"green\">`## TODO ##`</font>) with the appropriate details.\n",
    "- Ensure you run each cell after you've entered your solution.\n",
    "\n",
    "---\n",
    "\n",
    "*Full Name:* sajjad taghizadeh\n",
    "\n",
    "*SID:* 810102425\n",
    "\n",
    "In this exercise, you will investigate the applications of Mean Squared Error (MSE)."
   ]
  },
  {
   "cell_type": "code",
   "execution_count": 9,
   "metadata": {},
   "outputs": [],
   "source": [
    "import numpy as np\n",
    "import matplotlib.pyplot as plt\n",
    "from sklearn import datasets\n",
    "from sklearn.metrics import mean_squared_error"
   ]
  },
  {
   "cell_type": "markdown",
   "metadata": {},
   "source": [
    "# Linear Regression\n",
    "\n",
    "Linear regression is a fundamental statistical method used to model the relationship between a dependent variable and one or more independent variables. The goal is to find the best-fitting line through the data points.\n",
    "\n",
    "The linear regression model can be expressed as:\n",
    "\n",
    "$$ y = f(x) = a x + b$$\n",
    "\n",
    "Where:\n",
    "- $ y $ is the dependent variable.\n",
    "- $ x $ is the independent variable.\n",
    "- $ b $ is the y-intercept.\n",
    "- $ a $ is the slope of the line.\n",
    "\n",
    "We utilize the Mean Squared Error (MSE) approach to determine the coefficients $a$ and $b$ based on a set of sample data. \n",
    "$$ MSE = \\frac{1}{n} \\sum_{i=1}^{n} (y_i - f(x_i))^2 $$\n",
    "\n",
    "Where:\n",
    "- $ n $ is the number of observations.\n",
    "- $(x_i, y_i)$ is a given sample data \n",
    "\n",
    "## Finding the Solution\n",
    "\n",
    "To find the solution for the coefficients $ b $ and $ a $, we can use calculus. The steps are as follows:\n",
    "\n",
    "1. **Set up the error function**:\n",
    "   $$ MSE = \\frac{1}{n} \\sum_{i=1}^{n} (y_i - (a x_i + b))^2 $$\n",
    "\n",
    "2. **Derive the  solution** for $ b $ and $ a $ by taking the partial derivatives of the error function $ MSE $ and setting them to zero. Then solve the equations to find $ b $ and $ a $.\n",
    "\n",
    "   ######################  TODO  ########################\n",
    "   $$ a = \\frac{\\sum_{i=1}^{n} x_iy_i - \\bar{y} \\sum_{i=1}^{n} x_i}{\\sum_{i=1}^{n} x_i^2 - \\bar{x} \\sum_{i=1}^{n} x_i} = \\frac{\\sum_{i=1}^{n} (x_i - \\bar{x})(y_i - \\bar{y})}{\\sum_{i=1}^{n} (x_i - \\bar{x})^2} $$\n",
    "\n",
    "   $$ b = \\frac{\\sum_{i=1}^{n} y_i - a \\sum_{i=1}^{n} x_i}{n} = \\bar{y} - a\\bar{x} $$\n",
    "\n",
    "   ######################  TODO  ########################"
   ]
  },
  {
   "cell_type": "markdown",
   "metadata": {},
   "source": [
    "then implement it in Python."
   ]
  },
  {
   "cell_type": "code",
   "execution_count": 10,
   "metadata": {},
   "outputs": [],
   "source": [
    "class SimpleLinearRegression:\n",
    "    \"\"\"\n",
    "    A class to represent a simple linear regression model.\n",
    "\n",
    "    Attributes:\n",
    "        slope (float): The slope of the regression line.\n",
    "        intercept (float): The intercept of the regression line.\n",
    "    \"\"\"\n",
    "    def __init__(self):\n",
    "        self.slope: float = 0  # Slope of the regression line\n",
    "        self.intercept: float = 0  # Intercept of the regression line\n",
    "\n",
    "    def fit(self, x: list[float], y: list[float]) -> None:\n",
    "        \"\"\"\n",
    "        Fit the linear regression model to the data.\n",
    "\n",
    "        Args:\n",
    "            x (list[float]): List of independent variable values.\n",
    "            y (list[float]): List of dependent variable values.\n",
    "        \"\"\"\n",
    "            \n",
    "        sx = 0\n",
    "        sy = 0\n",
    "        sxy = 0\n",
    "        sxs = 0     \n",
    "        for i in range(len(x)):\n",
    "            sx += x[i]\n",
    "            sy += y[i]\n",
    "            sxy += x[i] * y[i]\n",
    "            sxs += x[i] ** 2\n",
    "        \n",
    "        self.slope = (len(x) * sxy - sx * sy) / (len(x) * sxs - sx ** 2)\n",
    "        self.intercept = (sy - self.slope * sx) / len(x)\n",
    "\n",
    "    def predict(self, x: list[float]) -> list[float]:\n",
    "        \"\"\"\n",
    "        Predict the dependent variable values for given independent variable values.\n",
    "\n",
    "        Args:\n",
    "            x (list[float]): List of independent variable values to predict.\n",
    "        \n",
    "        Returns:\n",
    "            list[float]: List of predicted dependent variable values.\n",
    "        \"\"\"\n",
    "        out = []\n",
    "        for xi in x:\n",
    "            o = self.intercept + self.slope * xi\n",
    "            out.append(o)\n",
    "        return out"
   ]
  },
  {
   "cell_type": "code",
   "execution_count": 11,
   "metadata": {},
   "outputs": [
    {
     "name": "stdout",
     "output_type": "stream",
     "text": [
      "2548.0723987259707\n"
     ]
    }
   ],
   "source": [
    "diabetes_X, diabetes_y = datasets.load_diabetes(return_X_y=True)\n",
    "\n",
    "# Use only one feature\n",
    "diabetes_X = diabetes_X[:, np.newaxis, 2]\n",
    "\n",
    "# Split the data into training/testing sets\n",
    "diabetes_X_train = diabetes_X[:-20]\n",
    "diabetes_X_test = diabetes_X[-20:]\n",
    "\n",
    "# Split the targets into training/testing sets\n",
    "diabetes_y_train = diabetes_y[:-20]\n",
    "diabetes_y_test = diabetes_y[-20:]\n",
    "\n",
    "######################  TODO  ########################\n",
    "# Objectives:\n",
    "# 1. Train your model using the training data.\n",
    "# 2. Make predictions on the  data\n",
    "# 3. Calculate and print the Mean Squared Error.\n",
    "######################  TODO  ########################\n",
    "m = SimpleLinearRegression()\n",
    "m.fit(diabetes_X_train, diabetes_y_train)\n",
    "predicting = m.predict(diabetes_X_test)\n",
    "mean_squared_error1 = mean_squared_error(diabetes_y_test, predicting)\n",
    "print( mean_squared_error1)\n"
   ]
  },
  {
   "cell_type": "markdown",
   "metadata": {},
   "source": [
    "## Plotting the Regression Line and Data Points\n",
    "\n",
    "Once you have implemented the `SimpleLinearRegression` class and trained your model, it is important to visualize the results. This will help you understand how well your regression line fits the original data points.\n",
    "\n",
    "### Objectives:\n",
    "1. Plot the original data points (x, y).\n",
    "2. Plot the regression line using the slope and intercept obtained from your model."
   ]
  },
  {
   "cell_type": "code",
   "execution_count": 12,
   "metadata": {},
   "outputs": [
    {
     "data": {
      "image/png": "[encoded data removed]",
      "text/plain": [
       "<Figure size 640x480 with 1 Axes>"
      ]
     },
     "metadata": {},
     "output_type": "display_data"
    }
   ],
   "source": [
    "######################  TODO  ########################\n",
    "plt.scatter(diabetes_X, diabetes_y, color='blue')\n",
    "plt.plot(diabetes_X_test, predicting, color='red')\n",
    "plt.show()\n",
    "######################  TODO  ########################"
   ]
  },
  {
   "cell_type": "markdown",
   "metadata": {},
   "source": [
    "\n",
    "\n",
    "Now you will explore the solution for linear regression when x is a vector. We will first prove the solution mathematically and then implement it in Python.\n",
    "\n",
    "## Prove the Solution\n",
    "\n",
    "### Linear Regression Model\n",
    "\n",
    "$$\n",
    "y = f(x) = \\theta_0 + \\theta_1 x_1 + \\theta_2 x_2 + \\ldots + \\theta_n x_n\n",
    "$$\n",
    "\n",
    "Where:\n",
    "- $ \\theta $ is the vector of parameters (weights),\n",
    "- $ x $ is the feature vector.\n",
    "\n",
    "We utilize the Mean Squared Error (MSE) approach to determine the coefficient $\\theta$ based on a set of sample data. \n",
    "\n",
    "$$\n",
    "MSE = \\frac{1}{m} \\sum_{i=1}^{m} (y_i - f(x))^2\n",
    "$$\n",
    "\n",
    "Where:\n",
    "- $ m $ is the number of samples,\n",
    "- $(x_i, y_i)$ is a given sample data.\n",
    "\n",
    "### Matrix Notation\n",
    "\n",
    "In matrix form, the cost function can be expressed as:\n",
    "\n",
    "$$\n",
    "MSE = \\frac{1}{m} (y - x\\theta)^T (y - x\\theta)\n",
    "$$\n",
    "\n",
    "### Finding the Solution\n",
    "\n",
    "To minimize the cost function, take the derivative with respect to $ \\theta $ and set it to zero:\n",
    "\n",
    "$$\n",
    "\\frac{\\partial MSE}{\\partial \\theta} = -\\frac{2}{m} x^T (y - x\\theta) = 0\n",
    "$$\n",
    "\n",
    "Rearranging gives:\n",
    "\n",
    "$$\n",
    "x^T y = x^T x \\theta\n",
    "$$\n",
    "\n",
    "Finally, solving for $ \\theta $ yields the solution:\n",
    "\n",
    "$$\n",
    "\\theta = (x^T x)^{-1} x^T y\n",
    "$$"
   ]
  },
  {
   "cell_type": "markdown",
   "metadata": {},
   "source": [
    "## Implement the Solution\n",
    "\n",
    "Now that we have proven the solution, implement it in Python.\n",
    "\n",
    "**Note:**  Make sure to use NumPy for matrix operations."
   ]
  },
  {
   "cell_type": "code",
   "execution_count": 13,
   "metadata": {},
   "outputs": [],
   "source": [
    "class LinearRegression:\n",
    "    def __init__(self) -> None:\n",
    "        \"\"\"Initializes the Linear Regression model.\"\"\"\n",
    "        self.theta: np.ndarray = None  # Parameters (weights) will be initialized in fit()\n",
    "\n",
    "    def fit(self, X: np.ndarray, y: np.ndarray) -> None:\n",
    "        \"\"\"\n",
    "        Fits the linear regression model to the training data.\n",
    "\n",
    "        Args:\n",
    "            X (np.ndarray): Feature matrix of shape (m, n) where m is the number of samples\n",
    "                            and n is the number of features.\n",
    "            y (np.ndarray): Target vector of shape (m, 1) where m is the number of samples.\n",
    "        \"\"\"\n",
    "        ######################  TODO  ########################\n",
    "        new_X=np.insert(X,0,1,axis=1)\n",
    "        X_T_X = new_X.T @ new_X\n",
    "        X_T_X_inv = np.linalg.inv(X_T_X)\n",
    "        X_T_y = new_X.T @ y\n",
    "        self.theta = X_T_X_inv @ X_T_y\n",
    "        ######################  TODO  ########################\n",
    "\n",
    "    def predict(self, X: np.ndarray) -> np.ndarray:\n",
    "        \"\"\"\n",
    "        Makes predictions using the learned parameters.\n",
    "\n",
    "        Args:\n",
    "            X (np.ndarray): Feature matrix of shape (m, n) where m is the number of samples\n",
    "                            and n is the number of features.\n",
    "\n",
    "        Returns:\n",
    "            np.ndarray: Predicted values of shape (m, 1).\n",
    "        \"\"\"\n",
    "        ######################  TODO  ########################\n",
    "        new_X=np.insert(X,0,1,axis=1)\n",
    "        return new_X @ self.theta\n",
    "        ######################  TODO  ########################"
   ]
  },
  {
   "cell_type": "markdown",
   "metadata": {},
   "source": [
    "Next, train the model using the previous dataset while considering three features. Once the training is complete, calculate the Mean Squared Error (MSE) and display the result."
   ]
  },
  {
   "cell_type": "code",
   "execution_count": 14,
   "metadata": {},
   "outputs": [
    {
     "name": "stdout",
     "output_type": "stream",
     "text": [
      "2585.663764713474\n"
     ]
    }
   ],
   "source": [
    "\n",
    "diabetes_X, diabetes_y = datasets.load_diabetes(return_X_y=True)\n",
    "\n",
    "# Use only three features\n",
    "######################  TODO  ########################\n",
    "diabetes_X = diabetes_X[:, 0:3]\n",
    "diabetes_X_train = diabetes_X[:-20,0:3]\n",
    "diabetes_X_test = diabetes_X[-20:,0:3]\n",
    "LR=LinearRegression()\n",
    "diabetes_y_train=np.reshape(diabetes_y_train,(len(diabetes_y_train),1))\n",
    "LR.fit(diabetes_X_train,diabetes_y_train)\n",
    "new_y=LR.predict(diabetes_X_test)\n",
    "new_y=np.reshape(new_y,len(new_y))\n",
    "z=np.subtract(diabetes_y_test,new_y)\n",
    "error= z@z / len(diabetes_y_test)\n",
    "print(error)\n",
    "######################  TODO  ########################"
   ]
  },
  {
   "cell_type": "markdown",
   "metadata": {},
   "source": [
    "# Finding the Center of a Dataset by Minimizing Mean Squared Error (MSE)\n",
    "\n",
    "In this part, you will implement a method to find the center of a dataset that minimizes the Mean Squared Error (MSE) between each data point and the center. The center can be thought of as the value that best represents the dataset in terms of minimizing the average squared difference from the data points.\n",
    "\n",
    "**TODO:**\n",
    "1. Formulate the error function.\n",
    "2. Identify the optimal coordinates $x$ and $y$ for the center by applying derivative method.\n",
    "3. Calculate the center for the training data from the previous sections (consider only one feature).\n",
    "4. Plot the data points along with obtained center.\n",
    "\n",
    "$$ \\frac{\\partial MSE}{\\partial cx} = \\frac{1}{n} \\sum_{i=1}^{n} 2(x_i - cx)(-1) = 0 $$\n",
    "$$ cx= \\frac{\\sum_{i=1}^{n} x_i}{n} = \\bar{x} $$\n",
    "$$ \\frac{\\partial MSE}{\\partial cy} = \\frac{1}{n} \\sum_{i=1}^{n} 2(y_i - cy)(-1) = 0 $$\n",
    "$$ cy= \\frac{\\sum_{i=1}^{n} y_i}{n} = \\bar{y} $$\n"
   ]
  },
  {
   "cell_type": "code",
   "execution_count": 15,
   "metadata": {},
   "outputs": [
    {
     "name": "stdout",
     "output_type": "stream",
     "text": [
      "-2.511816797794472e-19 152.13348416289594\n"
     ]
    },
    {
     "data": {
      "image/png": "[encoded data removed]",
      "text/plain": [
       "<Figure size 640x480 with 1 Axes>"
      ]
     },
     "metadata": {},
     "output_type": "display_data"
    }
   ],
   "source": [
    "#####################  TODO  ########################\n",
    "diabetes_X, diabetes_y = datasets.load_diabetes(return_X_y=True)\n",
    "diabetes_X = diabetes_X[:, 0]\n",
    "cx = np.mean(diabetes_X)\n",
    "cy = np.mean(diabetes_y)\n",
    "plt.scatter(diabetes_X, diabetes_y, color='black')\n",
    "plt.scatter(cx,cy,color=\"red\")\n",
    "print(cx,cy)\n",
    "######################  TODO  ########################"
   ]
  }
 ],
 "metadata": {
  "kernelspec": {
   "display_name": "Python 3",
   "language": "python",
   "name": "python3"
  },
  "language_info": {
   "codemirror_mode": {
    "name": "ipython",
    "version": 3
   },
   "file_extension": ".py",
   "mimetype": "text/x-python",
   "name": "python",
   "nbconvert_exporter": "python",
   "pygments_lexer": "ipython3",
   "version": "3.12.4"
  }
 },
 "nbformat": 4,
 "nbformat_minor": 2
}
